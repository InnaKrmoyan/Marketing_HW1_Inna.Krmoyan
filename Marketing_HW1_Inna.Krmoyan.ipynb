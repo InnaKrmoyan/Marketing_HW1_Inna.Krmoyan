{
 "cells": [
  {
   "cell_type": "markdown",
   "id": "19c1b8a0",
   "metadata": {},
   "source": [
    "#### The Merrel MTL Long Sky 2 VS Adidas Ultra Boost"
   ]
  },
  {
   "cell_type": "markdown",
   "id": "519670d0",
   "metadata": {},
   "source": [
    "The Merrell MTL Long Sky 2 is undeniably an innovative trail running shoe, celebrated for its sustainable materials and enhanced cushioning, which cater to both performance and environmental consciousness. In light of this, let's consider a look-alike innovation from the past in the form of the Adidas Ultra Boost.\n",
    "\n",
    "**Adidas Ultra Boost:** The Adidas Ultra Boost, initially released in 2015, was a game-changer in the athletic footwear industry. It introduced the Boost cushioning technology, a revolutionary advancement designed to provide remarkable energy return and comfort to runners. Boost technology is characterized by the use of thousands of thermoplastic polyurethane (TPU) capsules in the shoe's midsole, which compress and release energy with each stride. This innovation not only elevated running performance but also offered a high level of comfort, making it a popular choice for athletes and casual wearers alike.\n",
    "\n",
    "**Justification:** The Adidas Ultra Boost serves as a fitting look-alike innovation from the past to the Merrell MTL Long Sky 2 for several reasons. Both shoes are trailblazers in their respective eras, incorporating cutting-edge cushioning technologies to enhance performance and comfort. While the MTL Long Sky 2 emphasizes sustainability and outdoor durability, the Adidas Ultra Boost revolutionized the running shoe market by focusing on energy return and responsiveness. Both products showcase the importance of innovation in athletic footwear, whether it's through sustainable materials or cushioning technologies, and have made a significant impact in their time, appealing to runners and outdoor enthusiasts seeking top-notch quality and performance."
   ]
  },
  {
   "cell_type": "code",
   "execution_count": 3,
   "id": "d6f1ca6c",
   "metadata": {},
   "outputs": [],
   "source": [
    "import numpy as np\n",
    "import pandas as pd\n",
    "from scipy.optimize import curve_fit\n",
    "from sklearn.metrics import r2_score\n",
    "import matplotlib.pyplot as plt"
   ]
  },
  {
   "cell_type": "code",
   "execution_count": 27,
   "id": "879a4d15",
   "metadata": {},
   "outputs": [],
   "source": [
    "df = pd.read_excel('Adidas US Sales Datasets.xlsx')"
   ]
  },
  {
   "cell_type": "markdown",
   "id": "6c136562",
   "metadata": {},
   "source": [
    "The \"Adidas Sales Dataset\" holds strong promise for analysis due to its direct relevance to the research goal and its representation of real-world sales transactions. With a rich set of attributes including retailer details, temporal information, and profitability metrics, this dataset provides a comprehensive view of how Adidas products perform in the market. The inclusion of geographical data allows for regional sales trend analysis, while the dataset's size offers statistical robustness. Furthermore, the \"Sales Method\" attribute hints at insights into distribution channels. Kaggle's reputation adds to the dataset's credibility, making it a valuable resource for gaining insights into Adidas's sales performance.\n",
    "\n",
    "However, the dataset's suitability should be assessed in the context of specific research objectives, and data cleaning and exploration are necessary steps. Nevertheless, it offers the potential to uncover valuable business insights, such as top-selling products, profitable regions, and the impact of pricing strategies on sales—a crucial resource for any analysis focused on Adidas's sales dynamics."
   ]
  },
  {
   "cell_type": "code",
   "execution_count": 32,
   "id": "6c3f3dde",
   "metadata": {},
   "outputs": [],
   "source": [
    "df = df.drop([0,2])"
   ]
  },
  {
   "cell_type": "code",
   "execution_count": 34,
   "id": "725497a7",
   "metadata": {},
   "outputs": [],
   "source": [
    "df.columns = df.iloc[0]\n",
    "df = df[1:]"
   ]
  },
  {
   "cell_type": "code",
   "execution_count": 37,
   "id": "b6119d23",
   "metadata": {},
   "outputs": [],
   "source": [
    "df = df.drop(df.columns[0], axis=1)"
   ]
  },
  {
   "cell_type": "code",
   "execution_count": 39,
   "id": "f174dcdd",
   "metadata": {},
   "outputs": [],
   "source": [
    "df = df.reset_index(drop=True)"
   ]
  },
  {
   "cell_type": "code",
   "execution_count": 44,
   "id": "2fdc9fdc",
   "metadata": {},
   "outputs": [
    {
     "data": {
      "text/html": [
       "<div>\n",
       "<style scoped>\n",
       "    .dataframe tbody tr th:only-of-type {\n",
       "        vertical-align: middle;\n",
       "    }\n",
       "\n",
       "    .dataframe tbody tr th {\n",
       "        vertical-align: top;\n",
       "    }\n",
       "\n",
       "    .dataframe thead th {\n",
       "        text-align: right;\n",
       "    }\n",
       "</style>\n",
       "<table border=\"1\" class=\"dataframe\">\n",
       "  <thead>\n",
       "    <tr style=\"text-align: right;\">\n",
       "      <th>3</th>\n",
       "      <th>Retailer</th>\n",
       "      <th>Retailer ID</th>\n",
       "      <th>Invoice Date</th>\n",
       "      <th>Region</th>\n",
       "      <th>State</th>\n",
       "      <th>City</th>\n",
       "      <th>Product</th>\n",
       "      <th>Price per Unit</th>\n",
       "      <th>Units Sold</th>\n",
       "      <th>Total Sales</th>\n",
       "      <th>Operating Profit</th>\n",
       "      <th>Operating Margin</th>\n",
       "      <th>Sales Method</th>\n",
       "    </tr>\n",
       "  </thead>\n",
       "  <tbody>\n",
       "    <tr>\n",
       "      <th>0</th>\n",
       "      <td>Foot Locker</td>\n",
       "      <td>1185732</td>\n",
       "      <td>2020-01-01 00:00:00</td>\n",
       "      <td>Northeast</td>\n",
       "      <td>New York</td>\n",
       "      <td>New York</td>\n",
       "      <td>Men's Street Footwear</td>\n",
       "      <td>50</td>\n",
       "      <td>1200</td>\n",
       "      <td>600000</td>\n",
       "      <td>300000</td>\n",
       "      <td>0.5</td>\n",
       "      <td>In-store</td>\n",
       "    </tr>\n",
       "    <tr>\n",
       "      <th>1</th>\n",
       "      <td>Foot Locker</td>\n",
       "      <td>1185732</td>\n",
       "      <td>2020-01-02 00:00:00</td>\n",
       "      <td>Northeast</td>\n",
       "      <td>New York</td>\n",
       "      <td>New York</td>\n",
       "      <td>Men's Athletic Footwear</td>\n",
       "      <td>50</td>\n",
       "      <td>1000</td>\n",
       "      <td>500000</td>\n",
       "      <td>150000</td>\n",
       "      <td>0.3</td>\n",
       "      <td>In-store</td>\n",
       "    </tr>\n",
       "    <tr>\n",
       "      <th>2</th>\n",
       "      <td>Foot Locker</td>\n",
       "      <td>1185732</td>\n",
       "      <td>2020-01-03 00:00:00</td>\n",
       "      <td>Northeast</td>\n",
       "      <td>New York</td>\n",
       "      <td>New York</td>\n",
       "      <td>Women's Street Footwear</td>\n",
       "      <td>40</td>\n",
       "      <td>1000</td>\n",
       "      <td>400000</td>\n",
       "      <td>140000</td>\n",
       "      <td>0.35</td>\n",
       "      <td>In-store</td>\n",
       "    </tr>\n",
       "    <tr>\n",
       "      <th>3</th>\n",
       "      <td>Foot Locker</td>\n",
       "      <td>1185732</td>\n",
       "      <td>2020-01-04 00:00:00</td>\n",
       "      <td>Northeast</td>\n",
       "      <td>New York</td>\n",
       "      <td>New York</td>\n",
       "      <td>Women's Athletic Footwear</td>\n",
       "      <td>45</td>\n",
       "      <td>850</td>\n",
       "      <td>382500</td>\n",
       "      <td>133875</td>\n",
       "      <td>0.35</td>\n",
       "      <td>In-store</td>\n",
       "    </tr>\n",
       "    <tr>\n",
       "      <th>4</th>\n",
       "      <td>Foot Locker</td>\n",
       "      <td>1185732</td>\n",
       "      <td>2020-01-05 00:00:00</td>\n",
       "      <td>Northeast</td>\n",
       "      <td>New York</td>\n",
       "      <td>New York</td>\n",
       "      <td>Men's Apparel</td>\n",
       "      <td>60</td>\n",
       "      <td>900</td>\n",
       "      <td>540000</td>\n",
       "      <td>162000</td>\n",
       "      <td>0.3</td>\n",
       "      <td>In-store</td>\n",
       "    </tr>\n",
       "  </tbody>\n",
       "</table>\n",
       "</div>"
      ],
      "text/plain": [
       "3     Retailer Retailer ID         Invoice Date     Region     State  \\\n",
       "0  Foot Locker     1185732  2020-01-01 00:00:00  Northeast  New York   \n",
       "1  Foot Locker     1185732  2020-01-02 00:00:00  Northeast  New York   \n",
       "2  Foot Locker     1185732  2020-01-03 00:00:00  Northeast  New York   \n",
       "3  Foot Locker     1185732  2020-01-04 00:00:00  Northeast  New York   \n",
       "4  Foot Locker     1185732  2020-01-05 00:00:00  Northeast  New York   \n",
       "\n",
       "3      City                    Product Price per Unit Units Sold Total Sales  \\\n",
       "0  New York      Men's Street Footwear             50       1200      600000   \n",
       "1  New York    Men's Athletic Footwear             50       1000      500000   \n",
       "2  New York    Women's Street Footwear             40       1000      400000   \n",
       "3  New York  Women's Athletic Footwear             45        850      382500   \n",
       "4  New York              Men's Apparel             60        900      540000   \n",
       "\n",
       "3 Operating Profit Operating Margin Sales Method  \n",
       "0           300000              0.5     In-store  \n",
       "1           150000              0.3     In-store  \n",
       "2           140000             0.35     In-store  \n",
       "3           133875             0.35     In-store  \n",
       "4           162000              0.3     In-store  "
      ]
     },
     "execution_count": 44,
     "metadata": {},
     "output_type": "execute_result"
    }
   ],
   "source": [
    "df.head()"
   ]
  },
  {
   "cell_type": "code",
   "execution_count": 45,
   "id": "da2b3eb7",
   "metadata": {},
   "outputs": [
    {
     "data": {
      "text/plain": [
       "Index(['Retailer', 'Retailer ID', 'Invoice Date', 'Region', 'State', 'City',\n",
       "       'Product', 'Price per Unit', 'Units Sold', 'Total Sales',\n",
       "       'Operating Profit', 'Operating Margin', 'Sales Method'],\n",
       "      dtype='object', name=3)"
      ]
     },
     "execution_count": 45,
     "metadata": {},
     "output_type": "execute_result"
    }
   ],
   "source": [
    "df.columns"
   ]
  },
  {
   "cell_type": "code",
   "execution_count": 46,
   "id": "c52e615d",
   "metadata": {},
   "outputs": [],
   "source": [
    "total_revenue = df['Total Sales'].sum()"
   ]
  },
  {
   "cell_type": "code",
   "execution_count": 47,
   "id": "9e73753b",
   "metadata": {},
   "outputs": [],
   "source": [
    "# Defining an assumed percentage of initial customers\n",
    "initial_customers_percentage = 0.10  \n",
    "\n",
    "# Calculating the estimated initial customers based on the total customer base\n",
    "total_customer_base = len(df)\n",
    "initial_customers = total_customer_base * initial_customers_percentage"
   ]
  },
  {
   "cell_type": "code",
   "execution_count": 48,
   "id": "2b05feb0",
   "metadata": {},
   "outputs": [],
   "source": [
    "p = (total_revenue - initial_customers) / total_revenue"
   ]
  },
  {
   "cell_type": "code",
   "execution_count": 51,
   "id": "f775a6b4",
   "metadata": {},
   "outputs": [],
   "source": [
    "time_data = df['Invoice Date']"
   ]
  },
  {
   "cell_type": "code",
   "execution_count": 49,
   "id": "aeba77bb",
   "metadata": {},
   "outputs": [
    {
     "name": "stderr",
     "output_type": "stream",
     "text": [
      "/var/folders/54/l117b0qd28g1s71kjhs7gml80000gn/T/ipykernel_6366/3427383120.py:5: RuntimeWarning: invalid value encountered in scalar divide\n",
      "  q = adoption_rate / (1 - adoption_rate)\n"
     ]
    }
   ],
   "source": [
    "# Calculating the percentage change in Total Sales\n",
    "adoption_rate = df['Total Sales'].pct_change().mean()\n",
    "\n",
    "# Estimating q based on adoption rate\n",
    "q = adoption_rate / (1 - adoption_rate)"
   ]
  },
  {
   "cell_type": "code",
   "execution_count": 56,
   "id": "ae9e6b44",
   "metadata": {},
   "outputs": [
    {
     "name": "stderr",
     "output_type": "stream",
     "text": [
      "/Users/innakrmoyan/opt/anaconda3/lib/python3.9/site-packages/pandas/core/arraylike.py:396: RuntimeWarning: overflow encountered in exp\n",
      "  result = getattr(ufunc, method)(*inputs, **kwargs)\n"
     ]
    },
    {
     "name": "stdout",
     "output_type": "stream",
     "text": [
      "Estimated p: 0.04241014667387916\n",
      "Estimated q: 0.5957915548492305\n",
      "Estimated M: 73937.39798670069\n",
      "Estimated N: 1000.0\n",
      "R-squared: -0.41238497034484944\n"
     ]
    },
    {
     "name": "stderr",
     "output_type": "stream",
     "text": [
      "/Users/innakrmoyan/opt/anaconda3/lib/python3.9/site-packages/scipy/optimize/_minpack_py.py:881: OptimizeWarning: Covariance of the parameters could not be estimated\n",
      "  warnings.warn('Covariance of the parameters could not be estimated',\n"
     ]
    }
   ],
   "source": [
    "df['Invoice Date'] = pd.to_datetime(df['Invoice Date'])\n",
    "\n",
    "reference_date = pd.to_datetime('2023-01-01')\n",
    "\n",
    "df['Invoice Date'] = (df['Invoice Date'] - reference_date).dt.days\n",
    "\n",
    "def bass_model(t, p, q, M, N):\n",
    "    return M * ((p + q)**2) * np.exp(-(p + q) * t) / (1 + (q/p) * (np.exp(-(p + q) * t) - 1))\n",
    "\n",
    "time_data = df['Invoice Date']\n",
    "actual_sales = df['Total Sales']\n",
    "\n",
    "initial_p = 0.03\n",
    "initial_q = 0.38\n",
    "initial_M = 50000\n",
    "initial_N = 1000\n",
    "\n",
    "popt, _ = curve_fit(bass_model, time_data, actual_sales, p0=(initial_p, initial_q, initial_M, initial_N))\n",
    "\n",
    "estimated_p, estimated_q, estimated_M, estimated_N = popt\n",
    "\n",
    "predicted_sales = bass_model(time_data, estimated_p, estimated_q, estimated_M, estimated_N)\n",
    "r_squared = r2_score(actual_sales, predicted_sales)\n",
    "print(f\"Estimated p: {estimated_p}\")\n",
    "print(f\"Estimated q: {estimated_q}\")\n",
    "print(f\"Estimated M: {estimated_M}\")\n",
    "print(f\"Estimated N: {estimated_N}\")\n",
    "print(f\"R-squared: {r_squared}\")"
   ]
  },
  {
   "cell_type": "code",
   "execution_count": 57,
   "id": "23775155",
   "metadata": {},
   "outputs": [
    {
     "data": {
      "image/png": "[encoded data removed]",
      "text/plain": [
       "<Figure size 1000x600 with 1 Axes>"
      ]
     },
     "metadata": {},
     "output_type": "display_data"
    }
   ],
   "source": [
    "prediction_period = range(1, 13) \n",
    "\n",
    "predicted_sales = bass_model(prediction_period, estimated_p, estimated_q, estimated_M, estimated_N)\n",
    "\n",
    "prediction_time_data = np.array(prediction_period)\n",
    "\n",
    "plt.figure(figsize=(10, 6))\n",
    "plt.plot(prediction_time_data, predicted_sales, marker='o', linestyle='-', color='b', label='Predicted Sales')\n",
    "plt.xlabel('Time (Months)')\n",
    "plt.ylabel('Sales')\n",
    "plt.title('Predicted Diffusion of Innovation (Merrell MTL Long Sky 2)')\n",
    "plt.grid(True)\n",
    "plt.legend()\n",
    "plt.show()"
   ]
  },
  {
   "cell_type": "code",
   "execution_count": 61,
   "id": "3a436208",
   "metadata": {},
   "outputs": [
    {
     "name": "stdout",
     "output_type": "stream",
     "text": [
      "Estimated Adopters by Period: [-226148385.053034, -73645379.55959855, -32348946.939659055, -15691676.152103009, -7945996.376496078, -4107618.2587067094, -2145570.301123111, -1126729.0606765952, -593345.9715486579, -312919.21262408246, -165154.7496480982, -87201.97581371352]\n",
      "Estimated Potential Market Share by Period: [-3058.646790541803, -996.0504638376013, -437.5180601497194, -212.229217951726, -107.46924550854962, -55.5553531846706, -29.018742335361065, -15.238960138673841, -8.024977720414025, -4.232218351535282, -2.2337106003893323, -1.1794028216870545]\n"
     ]
    }
   ],
   "source": [
    "aware_percentage = 0.2  # 20% of the population is aware\n",
    "consideration_percentage = 0.4  # 40% of aware individuals consider adopting\n",
    "estimation_period = range(1, 13)  # 12 months for estimation\n",
    "\n",
    "adopters_by_period = []\n",
    "potential_market_share = []\n",
    "\n",
    "population = 1000000  \n",
    "\n",
    "for t in estimation_period:\n",
    "    aware_individuals = aware_percentage * population\n",
    "\n",
    "    considerers = consideration_percentage * aware_individuals\n",
    "    adoption_rate = bass_model(t, estimated_p, estimated_q, estimated_M, estimated_N)\n",
    "    adopters = considerers * adoption_rate\n",
    "\n",
    "    adopters_by_period.append(adopters)\n",
    "    potential_market_share.append(adopters / estimated_M)  # Potential market share\n",
    "\n",
    "print(\"Estimated Adopters by Period:\", adopters_by_period)\n",
    "print(\"Estimated Potential Market Share by Period:\", potential_market_share)"
   ]
  },
  {
   "cell_type": "markdown",
   "id": "47b5aa55",
   "metadata": {},
   "source": [
    "Adidas article: https://www.adidas.com/us/blog/373504-what-is-boost\n",
    "\n",
    "Adidas article: https://medium.com/@honestsoleslife/adidas-ultra-boost-4-0-honest-sneaker-review-honest-soles-4776bd3cb72c\n",
    "\n",
    "Data Source: https://www.kaggle.com/datasets/heemalichaudhari/adidas-sales-dataset"
   ]
  },
  {
   "cell_type": "code",
   "execution_count": null,
   "id": "fcdb3ccf",
   "metadata": {},
   "outputs": [],
   "source": []
  }
 ],
 "metadata": {
  "kernelspec": {
   "display_name": "Python 3 (ipykernel)",
   "language": "python",
   "name": "python3"
  },
  "language_info": {
   "codemirror_mode": {
    "name": "ipython",
    "version": 3
   },
   "file_extension": ".py",
   "mimetype": "text/x-python",
   "name": "python",
   "nbconvert_exporter": "python",
   "pygments_lexer": "ipython3",
   "version": "3.9.13"
  }
 },
 "nbformat": 4,
 "nbformat_minor": 5
}
